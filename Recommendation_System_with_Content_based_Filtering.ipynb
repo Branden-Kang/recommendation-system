{
  "nbformat": 4,
  "nbformat_minor": 0,
  "metadata": {
    "colab": {
      "name": "Recommendation System with Content-based Filtering.ipynb",
      "provenance": [],
      "authorship_tag": "ABX9TyNkgBmZ7WR++jip42HrRyTo"
    },
    "kernelspec": {
      "name": "python3",
      "display_name": "Python 3"
    },
    "language_info": {
      "name": "python"
    }
  },
  "cells": [
    {
      "cell_type": "markdown",
      "source": [
        "[Reference](https://medium.com/rahasak/recommendation-system-with-content-based-filtering-500231e31a60)"
      ],
      "metadata": {
        "id": "yVIdsltDRIti"
      }
    },
    {
      "cell_type": "code",
      "source": [
        "!pip install platypus"
      ],
      "metadata": {
        "colab": {
          "base_uri": "https://localhost:8080/"
        },
        "id": "QlhZLavdQwgk",
        "outputId": "55e337af-07e6-4d28-cd06-22ff054bc912"
      },
      "execution_count": 3,
      "outputs": [
        {
          "output_type": "stream",
          "name": "stdout",
          "text": [
            "Collecting platypus\n",
            "  Downloading Platypus-1.0.tar.gz (9.1 kB)\n",
            "Collecting ply\n",
            "  Downloading ply-3.11-py2.py3-none-any.whl (49 kB)\n",
            "\u001b[K     |████████████████████████████████| 49 kB 2.5 MB/s \n",
            "\u001b[?25hBuilding wheels for collected packages: platypus\n",
            "  Building wheel for platypus (setup.py) ... \u001b[?25l\u001b[?25hdone\n",
            "  Created wheel for platypus: filename=Platypus-1.0-py3-none-any.whl size=12131 sha256=c1aa704c69a7df0a8a4d95d6a83e3da81fca13cc444214b8149e7fe7508f0a34\n",
            "  Stored in directory: /root/.cache/pip/wheels/6c/d7/9b/814f078a14758933a87a5d450635b9646932a685838eff281a\n",
            "Successfully built platypus\n",
            "Installing collected packages: ply, platypus\n",
            "Successfully installed platypus-1.0 ply-3.11\n"
          ]
        }
      ]
    },
    {
      "cell_type": "code",
      "execution_count": 6,
      "metadata": {
        "colab": {
          "base_uri": "https://localhost:8080/"
        },
        "id": "zZ8tXPidP1QO",
        "outputId": "85576daa-e351-44a8-e43a-a56a62cab646"
      },
      "outputs": [
        {
          "output_type": "stream",
          "name": "stdout",
          "text": [
            "+----+------------------------------------------+--------------------------------------------------------+-------------------+---------------------------------------------+--------------------------------------------+\n",
            "|    | title                                    | cast                                                   | director          | keywords                                    | genres                                     |\n",
            "|----+------------------------------------------+--------------------------------------------------------+-------------------+---------------------------------------------+--------------------------------------------|\n",
            "|  0 | Avatar                                   | ['Sam Worthington', 'Zoe Saldana', 'Sigourney Weaver'] | James Cameron     | ['culture clash', 'future', 'space war']    | ['Action', 'Adventure', 'Fantasy']         |\n",
            "|  1 | Pirates of the Caribbean: At World's End | ['Johnny Depp', 'Orlando Bloom', 'Keira Knightley']    | Gore Verbinski    | ['ocean', 'drug abuse', 'exotic island']    | ['Adventure', 'Fantasy', 'Action']         |\n",
            "|  2 | Spectre                                  | ['Daniel Craig', 'Christoph Waltz', 'Léa Seydoux']     | Sam Mendes        | ['spy', 'based on novel', 'secret agent']   | ['Action', 'Adventure', 'Crime']           |\n",
            "|  3 | The Dark Knight Rises                    | ['Christian Bale', 'Michael Caine', 'Gary Oldman']     | Christopher Nolan | ['dc comics', 'crime fighter', 'terrorist'] | ['Action', 'Crime', 'Drama']               |\n",
            "|  4 | John Carter                              | ['Taylor Kitsch', 'Lynn Collins', 'Samantha Morton']   | Andrew Stanton    | ['based on novel', 'mars', 'medallion']     | ['Action', 'Adventure', 'Science Fiction'] |\n",
            "+----+------------------------------------------+--------------------------------------------------------+-------------------+---------------------------------------------+--------------------------------------------+\n"
          ]
        }
      ],
      "source": [
        "import pandas as pd\n",
        "from ast import literal_eval\n",
        "\n",
        "# read dataframe from csv on gitlab\n",
        "url = 'https://gitlab.com/rahasak-labs/dot/-/raw/master/src/main/resources/movie.csv'\n",
        "df = pd.read_csv(url)\n",
        "\n",
        "# pandas read list type colomns(genres, cast, keywords) as string, so convert them back to list type \n",
        "df.genres = df.genres.apply(literal_eval)\n",
        "df.cast = df.cast.apply(literal_eval)\n",
        "df.keywords = df.keywords.apply(literal_eval)\n",
        "\n",
        "# pretty print features dataframe\n",
        "from tabulate import tabulate\n",
        "print(tabulate(df[['title', 'cast', 'director', 'keywords', 'genres']].head(5), headers='keys', tablefmt='psql'))"
      ]
    },
    {
      "cell_type": "markdown",
      "source": [
        "# Clean Data\n"
      ],
      "metadata": {
        "id": "WJ0WmVXlQ5RV"
      }
    },
    {
      "cell_type": "code",
      "source": [
        "# convert all strings to lower case and remove the spaces\n",
        "def clean_feature(x):\n",
        "    if isinstance(x, list):\n",
        "        # apply for all list items\n",
        "        return [str.lower(i.replace(\" \", \"\")) for i in x]\n",
        "    else:\n",
        "        # apply for string items, if not string return an empty string\n",
        "        if isinstance(x, str):\n",
        "            return str.lower(x.replace(\" \", \"\"))\n",
        "        else:\n",
        "            return ''\n",
        "\n",
        "# apply clean function to the features\n",
        "features = ['cast', 'keywords', 'director', 'genres']\n",
        "for feature in features:\n",
        "    df[feature] = df[feature].apply(clean_feature)\n",
        "    \n",
        "# pretty print features dataframe\n",
        "from tabulate import tabulate\n",
        "print(tabulate(df[['title', 'cast', 'director', 'keywords', 'genres']].head(5), headers='keys', tablefmt='psql'))"
      ],
      "metadata": {
        "colab": {
          "base_uri": "https://localhost:8080/"
        },
        "id": "t1O5QIX1Q3ww",
        "outputId": "09946ab8-993f-46de-ac95-72fa5cecac03"
      },
      "execution_count": 7,
      "outputs": [
        {
          "output_type": "stream",
          "name": "stdout",
          "text": [
            "+----+------------------------------------------+-----------------------------------------------------+------------------+-------------------------------------------+-------------------------------------------+\n",
            "|    | title                                    | cast                                                | director         | keywords                                  | genres                                    |\n",
            "|----+------------------------------------------+-----------------------------------------------------+------------------+-------------------------------------------+-------------------------------------------|\n",
            "|  0 | Avatar                                   | ['samworthington', 'zoesaldana', 'sigourneyweaver'] | jamescameron     | ['cultureclash', 'future', 'spacewar']    | ['action', 'adventure', 'fantasy']        |\n",
            "|  1 | Pirates of the Caribbean: At World's End | ['johnnydepp', 'orlandobloom', 'keiraknightley']    | goreverbinski    | ['ocean', 'drugabuse', 'exoticisland']    | ['adventure', 'fantasy', 'action']        |\n",
            "|  2 | Spectre                                  | ['danielcraig', 'christophwaltz', 'léaseydoux']     | sammendes        | ['spy', 'basedonnovel', 'secretagent']    | ['action', 'adventure', 'crime']          |\n",
            "|  3 | The Dark Knight Rises                    | ['christianbale', 'michaelcaine', 'garyoldman']     | christophernolan | ['dccomics', 'crimefighter', 'terrorist'] | ['action', 'crime', 'drama']              |\n",
            "|  4 | John Carter                              | ['taylorkitsch', 'lynncollins', 'samanthamorton']   | andrewstanton    | ['basedonnovel', 'mars', 'medallion']     | ['action', 'adventure', 'sciencefiction'] |\n",
            "+----+------------------------------------------+-----------------------------------------------------+------------------+-------------------------------------------+-------------------------------------------+\n"
          ]
        }
      ]
    },
    {
      "cell_type": "markdown",
      "source": [
        "# Add Feature Column\n"
      ],
      "metadata": {
        "id": "WP0INUfiQ8h3"
      }
    },
    {
      "cell_type": "code",
      "source": [
        "def add_feature_col(x):\n",
        "    return ' '.join(x['keywords']) + ' ' + ' '.join(x['cast']) + ' ' + x['director'] + ' ' + ' '.join(x['genres'])\n",
        "df['features'] = df.apply(add_feature_col, axis=1)\n",
        "df['features'].head(5)"
      ],
      "metadata": {
        "colab": {
          "base_uri": "https://localhost:8080/"
        },
        "id": "YKQtHOnqQ67J",
        "outputId": "f350a8b5-5b83-4ca7-ccad-1af6f3de6775"
      },
      "execution_count": 8,
      "outputs": [
        {
          "output_type": "execute_result",
          "data": {
            "text/plain": [
              "0    cultureclash future spacewar samworthington zo...\n",
              "1    ocean drugabuse exoticisland johnnydepp orland...\n",
              "2    spy basedonnovel secretagent danielcraig chris...\n",
              "3    dccomics crimefighter terrorist christianbale ...\n",
              "4    basedonnovel mars medallion taylorkitsch lynnc...\n",
              "Name: features, dtype: object"
            ]
          },
          "metadata": {},
          "execution_count": 8
        }
      ]
    },
    {
      "cell_type": "markdown",
      "source": [
        "# Create Matrix\n"
      ],
      "metadata": {
        "id": "dCIYCS03Q-jM"
      }
    },
    {
      "cell_type": "code",
      "source": [
        "from sklearn.feature_extraction.text import CountVectorizer\n",
        "from sklearn.metrics.pairwise import cosine_similarity\n",
        "\n",
        "# create count matrix and cosine similarity\n",
        "count = CountVectorizer(stop_words='english')\n",
        "count_matrix = count.fit_transform(df['features'])\n",
        "cosine_sim = cosine_similarity(count_matrix, count_matrix)\n",
        "\n",
        "# reset index of the data frame and construct reverse mapping\n",
        "df = df.reset_index()\n",
        "indices = pd.Series(df.index, index=df['title'])"
      ],
      "metadata": {
        "id": "nSHnMAUJQ9sV"
      },
      "execution_count": 9,
      "outputs": []
    },
    {
      "cell_type": "markdown",
      "source": [
        "# Find Recommendations\n"
      ],
      "metadata": {
        "id": "mgvsNFhJRA4j"
      }
    },
    {
      "cell_type": "code",
      "source": [
        "# function that takes in movie title as input and outputs most similar movies\n",
        "def get_recommendations(title, cosine_sim):\n",
        "    # get the index of the movie that matches the title\n",
        "    idx = indices[title]\n",
        "\n",
        "    # get the pairwsie similarity scores of all movies with that movie\n",
        "    sim_scores = list(enumerate(cosine_sim[idx]))\n",
        "        \n",
        "    # sort the movies based on the similarity scores\n",
        "    sim_scores = sorted(sim_scores, key=lambda x: x[1], reverse=True)\n",
        "\n",
        "    # get the scores of the 10 most similar movies\n",
        "    sim_scores = sim_scores[1:11]\n",
        "\n",
        "    # get the movie indices\n",
        "    movie_indices = [i[0] for i in sim_scores]\n",
        "\n",
        "    # return the top 10 most similar movies from the data frame\n",
        "    return df['title'].iloc[movie_indices]\n",
        "  \n",
        "  \n",
        "# recommendatain of movie JFK\n",
        "get_recommendations('JFK', cosine_sim)"
      ],
      "metadata": {
        "colab": {
          "base_uri": "https://localhost:8080/"
        },
        "id": "P2CoWYu3Q_9W",
        "outputId": "8f8d4c40-0d20-4702-8d20-b65f1fefa80b"
      },
      "execution_count": 10,
      "outputs": [
        {
          "output_type": "execute_result",
          "data": {
            "text/plain": [
              "884              Zero Dark Thirty\n",
              "1528                     Criminal\n",
              "647            World Trade Center\n",
              "737     Jack Ryan: Shadow Recruit\n",
              "2008        In the Valley of Elah\n",
              "3172                The Contender\n",
              "940                       Syriana\n",
              "991                     Fair Game\n",
              "1091                        Nixon\n",
              "1187              Bridge of Spies\n",
              "Name: title, dtype: object"
            ]
          },
          "metadata": {},
          "execution_count": 10
        }
      ]
    },
    {
      "cell_type": "code",
      "source": [
        "# recommendatain of movie JFK\n",
        "get_recommendations('The Godfather', cosine_sim)"
      ],
      "metadata": {
        "colab": {
          "base_uri": "https://localhost:8080/"
        },
        "id": "cYGd4T8oRC5T",
        "outputId": "aeaab7a8-4379-4898-e977-0e4ae4677e04"
      },
      "execution_count": 11,
      "outputs": [
        {
          "output_type": "execute_result",
          "data": {
            "text/plain": [
              "867      The Godfather: Part III\n",
              "2731      The Godfather: Part II\n",
              "4638    Amidst the Devil's Wings\n",
              "2649           The Son of No One\n",
              "1525              Apocalypse Now\n",
              "1018             The Cotton Club\n",
              "1170     The Talented Mr. Ripley\n",
              "1209               The Rainmaker\n",
              "1394               Donnie Brasco\n",
              "1850                    Scarface\n",
              "Name: title, dtype: object"
            ]
          },
          "metadata": {},
          "execution_count": 11
        }
      ]
    },
    {
      "cell_type": "code",
      "source": [
        "# get recommendation of movie Avatar\n",
        "get_recommendations('Avatar',cosine_sim)"
      ],
      "metadata": {
        "colab": {
          "base_uri": "https://localhost:8080/"
        },
        "id": "-Rb1wtQLREa6",
        "outputId": "1efaa7e3-3802-4107-e99e-7316cead832e"
      },
      "execution_count": 12,
      "outputs": [
        {
          "output_type": "execute_result",
          "data": {
            "text/plain": [
              "206                         Clash of the Titans\n",
              "71        The Mummy: Tomb of the Dragon Emperor\n",
              "786                           The Monkey King 2\n",
              "103                   The Sorcerer's Apprentice\n",
              "131                                     G-Force\n",
              "215      Fantastic 4: Rise of the Silver Surfer\n",
              "466                            The Time Machine\n",
              "715                           The Scorpion King\n",
              "1      Pirates of the Caribbean: At World's End\n",
              "5                                  Spider-Man 3\n",
              "Name: title, dtype: object"
            ]
          },
          "metadata": {},
          "execution_count": 12
        }
      ]
    },
    {
      "cell_type": "code",
      "source": [
        ""
      ],
      "metadata": {
        "id": "3ThPmzD7RF4Z"
      },
      "execution_count": null,
      "outputs": []
    }
  ]
}