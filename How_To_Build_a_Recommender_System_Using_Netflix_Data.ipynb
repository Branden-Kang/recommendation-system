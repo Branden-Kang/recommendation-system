{
  "nbformat": 4,
  "nbformat_minor": 0,
  "metadata": {
    "colab": {
      "name": "How To Build a Recommender System Using Netflix Data.ipynb",
      "provenance": [],
      "authorship_tag": "ABX9TyNiZITzRQhTGIGMaGHVo6YD"
    },
    "kernelspec": {
      "name": "python3",
      "display_name": "Python 3"
    },
    "language_info": {
      "name": "python"
    }
  },
  "cells": [
    {
      "cell_type": "markdown",
      "metadata": {
        "id": "-WbvhCYuZ3AP"
      },
      "source": [
        "[Reference](https://betterprogramming.pub/how-to-build-a-recommender-system-using-netflix-data-562d1e04a2b9)"
      ]
    },
    {
      "cell_type": "code",
      "metadata": {
        "id": "JN8dWlGOZ1Nu"
      },
      "source": [
        "import pandas as pd\n",
        "df = pd.read_csv('netflix_titles.csv')\n",
        "df.head()"
      ],
      "execution_count": 1,
      "outputs": []
    },
    {
      "cell_type": "code",
      "metadata": {
        "id": "siQ8iJjQZ6nb"
      },
      "source": [
        "df = df.drop(['show_id', 'date_added', 'release_year', 'type'], axis=1)\n",
        "df.head()"
      ],
      "execution_count": 2,
      "outputs": []
    },
    {
      "cell_type": "code",
      "metadata": {
        "id": "DLsViICqZ8Kp"
      },
      "source": [
        "df.isna().sum()"
      ],
      "execution_count": 3,
      "outputs": []
    },
    {
      "cell_type": "code",
      "metadata": {
        "id": "y4FOPQb3Z_uf"
      },
      "source": [
        "text_list = [\"computers can not read natural language\", \"the natural language must be converted into numbers\", \"there are many different ways to do that\"]"
      ],
      "execution_count": 4,
      "outputs": []
    },
    {
      "cell_type": "code",
      "metadata": {
        "id": "q-ZVua1KaBhN"
      },
      "source": [
        "import numpy as np\n",
        "from nltk.tokenize import word_tokenize\n",
        "from collections import defaultdict \n",
        " \n",
        "sentences = []\n",
        "vocab = []\n",
        "for sent in text_list:\n",
        "    x = word_tokenize(sent)\n",
        "    sentence = [w.lower() for w in x if w.isalpha() ]\n",
        "    sentences.append(sentence)\n",
        "    for word in sentence:\n",
        "        if word not in vocab:\n",
        "            vocab.append(word)\n",
        " \n",
        "\n",
        "len_vector = len(vocab)\n",
        "print(len_vector)"
      ],
      "execution_count": 5,
      "outputs": []
    },
    {
      "cell_type": "code",
      "metadata": {
        "id": "aBrdoBCLaD9h"
      },
      "source": [
        "index_word = {}\n",
        "i = 0\n",
        "for word in vocab:\n",
        "    index_word[word] = i \n",
        "    i += 1\n",
        "print(index_word)\n",
        "{'computers': 0, 'can': 1, 'not': 2, 'read': 3, 'natural': 4, 'language': 5, 'the': 6, 'must': 7, 'be': 8, 'converted': 9, 'into': 10, 'numbers': 11, 'there': 12, 'are': 13, 'many': 14, 'different': 15, 'ways': 16, 'to': 17, 'do': 18, 'that': 19}"
      ],
      "execution_count": 6,
      "outputs": []
    },
    {
      "cell_type": "code",
      "metadata": {
        "id": "GVd_BK09aGiJ"
      },
      "source": [
        "def bag_of_words(sent):\n",
        "    count_dict = defaultdict(int)  \n",
        "    vec = np.zeros(len_vector,dtype=int)    \n",
        "    for item in sent:\n",
        "        count_dict[item] += 1\n",
        "    for key,item in count_dict.items():\n",
        "        vec[index_word[key]] = item\n",
        "    return vec"
      ],
      "execution_count": 7,
      "outputs": []
    },
    {
      "cell_type": "code",
      "metadata": {
        "id": "N7zy20KoaIRG"
      },
      "source": [
        "vector = bag_of_words(sentences[0])\n",
        "print(vector)"
      ],
      "execution_count": 8,
      "outputs": []
    },
    {
      "cell_type": "code",
      "metadata": {
        "id": "jLzlnoaYaJ9c"
      },
      "source": [
        "import math\n",
        "import re\n",
        "from collections import Counter\n",
        "\n",
        "WORD = re.compile(r\"\\w+\")"
      ],
      "execution_count": 9,
      "outputs": []
    },
    {
      "cell_type": "code",
      "metadata": {
        "id": "cM-XnR2waLu3"
      },
      "source": [
        "def text_to_vector(text):\n",
        "    words = WORD.findall(text)\n",
        "    return Counter(words)\n",
        "def get_cosine(desc1, desc2):\n",
        "    vector1 = text_to_vector(desc1)\n",
        "    vector2 = text_to_vector(desc2)\n",
        "    intersection = set(vector1.keys()) & set(vector2.keys())\n",
        "    numerator = sum([vector1[x] * vector2[x] for x in intersection])\n",
        "\n",
        "    sum1 = sum([vector1[x] ** 2 for x in list(vector1.keys())])\n",
        "    sum2 = sum([vector2[x] ** 2 for x in list(vector2.keys())])\n",
        "    denominator = math.sqrt(sum1) * math.sqrt(sum2)\n",
        "\n",
        "    if not denominator:\n",
        "        return 0.0\n",
        "    else:\n",
        "        return float(numerator) / denominator"
      ],
      "execution_count": 10,
      "outputs": []
    },
    {
      "cell_type": "code",
      "metadata": {
        "id": "65sUluXzaOVl"
      },
      "source": [
        "description2 = \"In a future where the elite inhabit an island paradise far from the crowded slums, you get one chance to join the 3% saved from squalor.\""
      ],
      "execution_count": 11,
      "outputs": []
    },
    {
      "cell_type": "code",
      "metadata": {
        "id": "L6yqbyPhaQIa"
      },
      "source": [
        "df['description2'] = description2"
      ],
      "execution_count": 12,
      "outputs": []
    },
    {
      "cell_type": "code",
      "metadata": {
        "id": "0WG1K1ouaRLW"
      },
      "source": [
        "df['cosine'] = df.apply(lambda x: get_cosine(x.description, x.description2), axis=1)"
      ],
      "execution_count": 13,
      "outputs": []
    },
    {
      "cell_type": "code",
      "metadata": {
        "id": "evGAOlY7aSlo"
      },
      "source": [
        "df.head()"
      ],
      "execution_count": 14,
      "outputs": []
    },
    {
      "cell_type": "code",
      "metadata": {
        "id": "aHDGoZ6zaTxX"
      },
      "source": [
        "df_sorted = df.sort_values(by=['cosine'],ascending=False)\n",
        "df_sorted.head(10)"
      ],
      "execution_count": 15,
      "outputs": []
    }
  ]
}