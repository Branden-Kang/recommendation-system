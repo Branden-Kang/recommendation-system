{
  "nbformat": 4,
  "nbformat_minor": 0,
  "metadata": {
    "colab": {
      "name": "Building a Visual Similarity-based Recommendation System Using Python.ipynb",
      "provenance": [],
      "collapsed_sections": [],
      "authorship_tag": "ABX9TyMisk1AUUXSWrK8m0c57JUL"
    },
    "kernelspec": {
      "name": "python3",
      "display_name": "Python 3"
    },
    "language_info": {
      "name": "python"
    }
  },
  "cells": [
    {
      "cell_type": "markdown",
      "metadata": {
        "id": "xFFp6emPGfqy"
      },
      "source": [
        "[Reference](https://medium.com/geekculture/building-a-visual-similarity-based-recommendation-system-using-python-872a5bea568e)"
      ]
    },
    {
      "cell_type": "code",
      "metadata": {
        "id": "pBXVAF3qFDW7"
      },
      "source": [
        "#!/usr/bin/env python\n",
        "# coding: utf-8\n",
        "\n",
        "import numpy as np\n",
        "import pandas as pd\n",
        "from PIL import Image\n",
        "from PIL import ImageFile\n",
        "import urllib.request\n",
        "#from IPython.display import display, Image\n",
        "from sklearn.metrics import pairwise_distances\n",
        "from datetime import datetime\n",
        "import streamlit as st\n",
        "\n",
        "\n",
        "st.set_option('deprecation.showfileUploaderEncoding', False)\n",
        "\n",
        "fashion_df = pd.read_csv(\"./fashion.csv\")\n",
        "boys_extracted_features = np.load('./Boys_ResNet_features.npy')\n",
        "boys_Productids = np.load('./Boys_ResNet_feature_product_ids.npy')\n",
        "girls_extracted_features = np.load('./Girls_ResNet_features.npy')\n",
        "girls_Productids = np.load('./Girls_ResNet_feature_product_ids.npy')\n",
        "men_extracted_features = np.load('./Men_ResNet_features.npy')\n",
        "men_Productids = np.load('./Men_ResNet_feature_product_ids.npy')\n",
        "women_extracted_features = np.load('./Women_ResNet_features.npy')\n",
        "women_Productids = np.load('./Women_ResNet_feature_product_ids.npy')\n",
        "fashion_df[\"ProductId\"] = fashion_df[\"ProductId\"].astype(str)\n",
        "\n",
        "\n",
        "\n",
        "def get_similar_products_cnn(product_id, num_results):\n",
        "    if(fashion_df[fashion_df['ProductId']==product_id]['Gender'].values[0]==\"Boys\"):\n",
        "        extracted_features = boys_extracted_features\n",
        "        Productids = boys_Productids\n",
        "    elif(fashion_df[fashion_df['ProductId']==product_id]['Gender'].values[0]==\"Girls\"):\n",
        "        extracted_features = girls_extracted_features\n",
        "        Productids = girls_Productids\n",
        "    elif(fashion_df[fashion_df['ProductId']==product_id]['Gender'].values[0]==\"Men\"):\n",
        "        extracted_features = men_extracted_features\n",
        "        Productids = men_Productids\n",
        "    elif(fashion_df[fashion_df['ProductId']==product_id]['Gender'].values[0]==\"Women\"):\n",
        "        extracted_features = women_extracted_features\n",
        "        Productids = women_Productids\n",
        "    Productids = list(Productids)\n",
        "    doc_id = Productids.index(product_id)\n",
        "    pairwise_dist = pairwise_distances(extracted_features, extracted_features[doc_id].reshape(1,-1))\n",
        "    indices = np.argsort(pairwise_dist.flatten())[0:num_results]\n",
        "    pdists  = np.sort(pairwise_dist.flatten())[0:num_results]\n",
        "    st.write(\"\"\"\n",
        "         #### input item details\n",
        "         \"\"\")\n",
        "    ip_row = fashion_df[['ImageURL','ProductTitle']].loc[fashion_df['ProductId']==Productids[indices[0]]]\n",
        "    for indx, row in ip_row.iterrows():\n",
        "        image = Image.open(urllib.request.urlopen(row['ImageURL']))\n",
        "        image = image.resize((224,224))\n",
        "        st.image(image)\n",
        "        st.write(f\"Product Title: {row['ProductTitle']}\")\n",
        "    st.write(f\"\"\"\n",
        "         #### Top {num_results} Recommended items\n",
        "         \"\"\")\n",
        "    for i in range(1,len(indices)):\n",
        "        rows = fashion_df[['ImageURL','ProductTitle']].loc[fashion_df['ProductId']==Productids[indices[i]]]\n",
        "        for indx, row in rows.iterrows():\n",
        "            #image = Image.open(Image(url=row['ImageURL'], width = 224, height = 224,embed=True))\n",
        "            image = Image.open(urllib.request.urlopen(row['ImageURL']))\n",
        "            image = image.resize((224,224))\n",
        "            st.image(image)\n",
        "            st.write(f\"Product Title: {row['ProductTitle']}\")\n",
        "            st.write(f\"Euclidean Distance from input image: {pdists[i]}\")\n",
        "\n",
        "st.write(\"\"\"\n",
        "         ## Visual Similarity based Recommendation\n",
        "         \"\"\"\n",
        "         )\n",
        "\n",
        "\n",
        "user_input1 = st.text_input(\"Enter the item id\")\n",
        "user_input2 = st.text_input(\"Enter number of products to be recommended\")\n",
        "\n",
        "\n",
        "button = st.button('Generate recommendations')\n",
        "if button:\n",
        "    get_similar_products_cnn(str(user_input1), int(user_input2))"
      ],
      "execution_count": null,
      "outputs": []
    }
  ]
}