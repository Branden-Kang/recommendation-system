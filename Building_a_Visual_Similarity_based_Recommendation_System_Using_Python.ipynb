{
  "nbformat": 4,
  "nbformat_minor": 0,
  "metadata": {
    "colab": {
      "name": "Building a Visual Similarity-based Recommendation System Using Python.ipynb",
      "provenance": [],
      "authorship_tag": "ABX9TyM5uukOmAkfKaw0u6nn7gRK"
    },
    "kernelspec": {
      "name": "python3",
      "display_name": "Python 3"
    },
    "language_info": {
      "name": "python"
    }
  },
  "cells": [
    {
      "cell_type": "markdown",
      "metadata": {
        "id": "y9ra77uwSzcB"
      },
      "source": [
        "[Reference](https://medium.com/geekculture/building-a-visual-similarity-based-recommendation-system-using-python-872a5bea568e)"
      ]
    },
    {
      "cell_type": "markdown",
      "metadata": {
        "id": "XTzDWJhRU8Hs"
      },
      "source": [
        "# 1. Basic Data Analysis\n"
      ]
    },
    {
      "cell_type": "code",
      "metadata": {
        "id": "R1dRcgS6Sni-"
      },
      "source": [
        "import numpy as np\n",
        "import pandas as pd\n",
        "import matplotlib.pyplot as plt\n",
        "import seaborn as sns\n",
        "from keras.preprocessing.image import ImageDataGenerator\n",
        "from keras.models import Sequential\n",
        "from keras.layers import Dropout, Flatten, Dense\n",
        "from keras import applications\n",
        "from sklearn.metrics import pairwise_distances\n",
        "import requests\n",
        "from PIL import Image\n",
        "import pickle\n",
        "from datetime import datetime\n",
        "from PIL import ImageFile\n",
        "ImageFile.LOAD_TRUNCATED_IMAGES = True\n",
        "import plotly.figure_factory as ff\n",
        "import plotly.graph_objects as go\n",
        "import plotly.express as px\n",
        "#import streamlit as st\n",
        "#use the below library while displaying the images in jupyter notebook\n",
        "from IPython.display import display, Image\n",
        "\n",
        "fashion_df = pd.read_csv(\"/kaggle/input/fashion-images/data/fashion.csv\")\n",
        "fashion_df"
      ],
      "execution_count": 1,
      "outputs": []
    },
    {
      "cell_type": "code",
      "metadata": {
        "id": "93sYqIDyS8GE"
      },
      "source": [
        "print(\"Total number of products : \", fashion_df.shape[0])\n",
        "print(\"Total number of unique subcategories : \", fashion_df[\"SubCategory\"].nunique())\n",
        "print(\"Total number of unique gender types : \", fashion_df[\"Gender\"].nunique())"
      ],
      "execution_count": 2,
      "outputs": []
    },
    {
      "cell_type": "code",
      "metadata": {
        "id": "ZJZE5qdyS-SR"
      },
      "source": [
        "fashion_df[\"Gender\"].value_counts()"
      ],
      "execution_count": 3,
      "outputs": []
    },
    {
      "cell_type": "code",
      "metadata": {
        "id": "2AX2-UEvTBTN"
      },
      "source": [
        "plot = sns.countplot(fashion_df[\"Gender\"])\n",
        "plt.title(\"Distribution of articles gender-wise\")\n",
        "plt.xlabel(\"Gender type\")\n",
        "plt.ylabel(\"Number of products\")\n",
        "plot.set_xticklabels(plot.get_xticklabels())\n",
        "plt.show()"
      ],
      "execution_count": 4,
      "outputs": []
    },
    {
      "cell_type": "markdown",
      "metadata": {
        "id": "-jKmMsTVVAFr"
      },
      "source": [
        "# 2. Data Preparation\n"
      ]
    },
    {
      "cell_type": "code",
      "metadata": {
        "id": "tYbTWYyaTRyV"
      },
      "source": [
        "apparel_boys = fashion_df[fashion_df[\"Gender\"]==\"Boys\"]\n",
        "apparel_girls = fashion_df[fashion_df[\"Gender\"]==\"Girls\"]\n",
        "footwear_men = fashion_df[fashion_df[\"Gender\"]==\"Men\"]\n",
        "footwear_women = fashion_df[fashion_df[\"Gender\"]==\"Women\"]"
      ],
      "execution_count": 5,
      "outputs": []
    },
    {
      "cell_type": "markdown",
      "metadata": {
        "id": "-MmE7jsEVB7k"
      },
      "source": [
        "# 3. Feature Extraction using ResNet\n"
      ]
    },
    {
      "cell_type": "code",
      "metadata": {
        "id": "TWxSQMC4TTSt"
      },
      "source": [
        "img_width, img_height = 224, 224\n",
        "\n",
        "#top_model_weights_path = 'resnet50_weights_tf_dim_ordering_tf_kernels_notop.h5'\n",
        "train_data_dir = \"/kaggle/input/fashion-images/data/Footwear/Men/Images/\"\n",
        "\n",
        "nb_train_samples = 811\n",
        "epochs = 50\n",
        "batch_size = 1\n",
        "\n",
        "def extract_features():\n",
        "    Itemcodes = []\n",
        "    datagen = ImageDataGenerator(rescale=1. / 255)\n",
        "    model = applications.ResNet50(include_top=False, weights='imagenet')\n",
        "    generator = datagen.flow_from_directory(\n",
        "        train_data_dir,\n",
        "        target_size=(img_width, img_height),\n",
        "        batch_size=batch_size,\n",
        "        class_mode=None,\n",
        "        shuffle=False)\n",
        "    for i in generator.filenames:\n",
        "        Itemcodes.append(i[(i.find(\"/\")+1):i.find(\".\")])\n",
        "    extracted_features = model.predict_generator(generator, nb_train_samples // batch_size)\n",
        "    extracted_features = extracted_features.reshape((811, 100352))\n",
        "    \n",
        "    np.save(open('./Men_ResNet_features.npy', 'wb'), extracted_features)\n",
        "    np.save(open('./Men_ResNet_feature_product_ids.npy', 'wb'), np.array(Itemcodes))\n",
        "    \n",
        "a = datetime.now()\n",
        "extract_features()\n",
        "print(\"Time taken in feature extraction\", datetime.now()-a)"
      ],
      "execution_count": 6,
      "outputs": []
    },
    {
      "cell_type": "code",
      "metadata": {
        "id": "UGXb-oKgTVys"
      },
      "source": [
        "extracted_features = np.load('/kaggle/working/Men_ResNet_features.npy')\n",
        "Productids = np.load('/kaggle/working/Men_ResNet_feature_product_ids.npy')\n",
        "men = footwear_men.copy()\n",
        "#men = pd.read_csv('./footwear_men.csv')\n",
        "df_Productids = list(men['ProductId'])\n",
        "Productids = list(Productids)"
      ],
      "execution_count": 7,
      "outputs": []
    },
    {
      "cell_type": "code",
      "metadata": {
        "id": "Laxq4FxsTXOn"
      },
      "source": [
        "def get_similar_products_cnn(product_id, num_results):\n",
        "    doc_id = Productids.index(product_id)\n",
        "    pairwise_dist = pairwise_distances(extracted_features, extracted_features[doc_id].reshape(1,-1))\n",
        "    indices = np.argsort(pairwise_dist.flatten())[0:num_results]\n",
        "    pdists  = np.sort(pairwise_dist.flatten())[0:num_results]\n",
        "    print(\"=\"*20, \"input product image\", \"=\"*20)\n",
        "    ip_row = men[['ImageURL','ProductTitle']].loc[men['ProductId']==int(Productids[indices[0]])]\n",
        "    #print(ip_row.head())\n",
        "    for indx, row in ip_row.iterrows():\n",
        "        display(Image(url=row['ImageURL'], width = 224, height = 224,embed=True))\n",
        "        print('Product Title: ', row['ProductTitle'])\n",
        "    print(\"\\n\",\"=\"*20, \"Recommended products\", \"=\"*20)\n",
        "    for i in range(1,len(indices)):\n",
        "        rows = men[['ImageURL','ProductTitle']].loc[men['ProductId']==int(Productids[indices[i]])]\n",
        "        for indx, row in rows.iterrows():\n",
        "            display(Image(url=row['ImageURL'], width = 224, height = 224,embed=True))\n",
        "            print('Product Title: ', row['ProductTitle'])\n",
        "            print('Euclidean Distance from input image:', pdists[i])\n",
        "\n",
        "get_similar_products_cnn('13683', 5)"
      ],
      "execution_count": 8,
      "outputs": []
    },
    {
      "cell_type": "code",
      "metadata": {
        "id": "ZpGMA213TY--"
      },
      "source": [
        "img_width, img_height = 224, 224\n",
        "\n",
        "\n",
        "#top_model_weights_path = 'resnet50_weights_tf_dim_ordering_tf_kernels_notop.h5'\n",
        "train_data_dir = \"/kaggle/input/fashion-images/data/Footwear/Women/Images/\"\n",
        "\n",
        "nb_train_samples = 769\n",
        "epochs = 50\n",
        "batch_size = 1\n",
        "\n",
        "def extract_features():\n",
        "    Itemcodes = []\n",
        "    datagen = ImageDataGenerator(rescale=1. / 255)\n",
        "    model = applications.ResNet50(include_top=False, weights='imagenet')\n",
        "    generator = datagen.flow_from_directory(\n",
        "        train_data_dir,\n",
        "        target_size=(img_width, img_height),\n",
        "        batch_size=batch_size,\n",
        "        class_mode=None,\n",
        "        shuffle=False)\n",
        "    for i in generator.filenames:\n",
        "        Itemcodes.append(i[(i.find(\"/\")+1):i.find(\".\")])\n",
        "    extracted_features = model.predict_generator(generator, nb_train_samples // batch_size)\n",
        "    extracted_features = extracted_features.reshape((769, 100352))\n",
        "    \n",
        "    np.save(open('./Women_ResNet_features.npy', 'wb'), extracted_features)\n",
        "    np.save(open('./Women_ResNet_feature_product_ids.npy', 'wb'), np.array(Itemcodes))\n",
        "    \n",
        "a = datetime.now()\n",
        "extract_features()\n",
        "print(\"Time taken in feature extraction\", datetime.now()-a)"
      ],
      "execution_count": 9,
      "outputs": []
    },
    {
      "cell_type": "code",
      "metadata": {
        "id": "nx6gVFhHTchm"
      },
      "source": [
        "img_width, img_height = 224, 224\n",
        "\n",
        "\n",
        "#top_model_weights_path = 'resnet50_weights_tf_dim_ordering_tf_kernels_notop.h5'\n",
        "train_data_dir = \"/kaggle/input/fashion-images/data/Apparel/Boys/Images\"\n",
        "\n",
        "nb_train_samples = 759\n",
        "epochs = 50\n",
        "batch_size = 1\n",
        "\n",
        "def extract_features():\n",
        "    Itemcodes = []\n",
        "    datagen = ImageDataGenerator(rescale=1. / 255)\n",
        "    model = applications.ResNet50(include_top=False, weights='imagenet')\n",
        "    generator = datagen.flow_from_directory(\n",
        "        train_data_dir,\n",
        "        target_size=(img_width, img_height),\n",
        "        batch_size=batch_size,\n",
        "        class_mode=None,\n",
        "        shuffle=False)\n",
        "    for i in generator.filenames:\n",
        "        Itemcodes.append(i[(i.find(\"/\")+1):i.find(\".\")])\n",
        "    extracted_features = model.predict_generator(generator, nb_train_samples // batch_size)\n",
        "    extracted_features = extracted_features.reshape((759, 100352))\n",
        "    \n",
        "    np.save(open('./Boys_ResNet_features.npy', 'wb'), extracted_features)\n",
        "    np.save(open('./Boys_ResNet_feature_product_ids.npy', 'wb'), np.array(Itemcodes))\n",
        "    \n",
        "a = datetime.now()\n",
        "extract_features()\n",
        "print(\"Time taken in feature extraction\", datetime.now()-a)"
      ],
      "execution_count": 10,
      "outputs": []
    },
    {
      "cell_type": "code",
      "metadata": {
        "id": "0zcRLbvfTe0c"
      },
      "source": [
        "img_width, img_height = 224, 224\n",
        "\n",
        "\n",
        "#top_model_weights_path = 'resnet50_weights_tf_dim_ordering_tf_kernels_notop.h5'\n",
        "train_data_dir = \"/kaggle/input/fashion-images/data/Apparel/Girls/Images\"\n",
        "\n",
        "nb_train_samples = 567\n",
        "epochs = 50\n",
        "batch_size = 1\n",
        "\n",
        "def extract_features():\n",
        "    Itemcodes = []\n",
        "    datagen = ImageDataGenerator(rescale=1. / 255)\n",
        "    model = applications.ResNet50(include_top=False, weights='imagenet')\n",
        "    generator = datagen.flow_from_directory(\n",
        "        train_data_dir,\n",
        "        target_size=(img_width, img_height),\n",
        "        batch_size=batch_size,\n",
        "        class_mode=None,\n",
        "        shuffle=False)\n",
        "    for i in generator.filenames:\n",
        "        Itemcodes.append(i[(i.find(\"/\")+1):i.find(\".\")])\n",
        "    extracted_features = model.predict_generator(generator, nb_train_samples // batch_size)\n",
        "    extracted_features = extracted_features.reshape((567, 100352))\n",
        "    \n",
        "    np.save(open('./Girls_ResNet_features.npy', 'wb'), extracted_features)\n",
        "    np.save(open('./Girls_ResNet_feature_product_ids.npy', 'wb'), np.array(Itemcodes))\n",
        "    \n",
        "a = datetime.now()\n",
        "extract_features()\n",
        "print(\"Time taken in feature extraction\", datetime.now()-a)"
      ],
      "execution_count": 11,
      "outputs": []
    },
    {
      "cell_type": "markdown",
      "metadata": {
        "id": "gGusoVHJVIV9"
      },
      "source": [
        "# 4. Computing the Euclidean distance and recommending similar products\n"
      ]
    },
    {
      "cell_type": "code",
      "metadata": {
        "id": "_PGPVV1tTg2f"
      },
      "source": [
        "boys_extracted_features = np.load('/kaggle/working/Boys_ResNet_features.npy')\n",
        "boys_Productids = np.load('/kaggle/working/Boys_ResNet_feature_product_ids.npy')\n",
        "girls_extracted_features = np.load('/kaggle/working/Girls_ResNet_features.npy')\n",
        "girls_Productids = np.load('/kaggle/working/Girls_ResNet_feature_product_ids.npy')\n",
        "men_extracted_features = np.load('/kaggle/working/Men_ResNet_features.npy')\n",
        "men_Productids = np.load('/kaggle/working/Men_ResNet_feature_product_ids.npy')\n",
        "women_extracted_features = np.load('/kaggle/working/Women_ResNet_features.npy')\n",
        "women_Productids = np.load('/kaggle/working/Women_ResNet_feature_product_ids.npy')\n",
        "fashion_df[\"ProductId\"] = fashion_df[\"ProductId\"].astype(str)"
      ],
      "execution_count": 12,
      "outputs": []
    },
    {
      "cell_type": "code",
      "metadata": {
        "id": "E9FuDmk5TiuD"
      },
      "source": [
        "def get_similar_products_cnn(product_id, num_results):\n",
        "    if(fashion_df[fashion_df['ProductId']==product_id]['Gender'].values[0]==\"Boys\"):\n",
        "        extracted_features = boys_extracted_features\n",
        "        Productids = boys_Productids\n",
        "    elif(fashion_df[fashion_df['ProductId']==product_id]['Gender'].values[0]==\"Girls\"):\n",
        "        extracted_features = girls_extracted_features\n",
        "        Productids = girls_Productids\n",
        "    elif(fashion_df[fashion_df['ProductId']==product_id]['Gender'].values[0]==\"Men\"):\n",
        "        extracted_features = men_extracted_features\n",
        "        Productids = men_Productids\n",
        "    elif(fashion_df[fashion_df['ProductId']==product_id]['Gender'].values[0]==\"Women\"):\n",
        "        extracted_features = women_extracted_features\n",
        "        Productids = women_Productids\n",
        "    Productids = list(Productids)\n",
        "    doc_id = Productids.index(product_id)\n",
        "    pairwise_dist = pairwise_distances(extracted_features, extracted_features[doc_id].reshape(1,-1))\n",
        "    indices = np.argsort(pairwise_dist.flatten())[0:num_results]\n",
        "    pdists  = np.sort(pairwise_dist.flatten())[0:num_results]\n",
        "    print(\"=\"*20, \"input product details\", \"=\"*20)\n",
        "    ip_row = fashion_df[['ImageURL','ProductTitle']].loc[fashion_df['ProductId']==Productids[indices[0]]]\n",
        "    for indx, row in ip_row.iterrows():\n",
        "        display(Image(url=row['ImageURL'], width = 224, height = 224,embed=True))\n",
        "        print('Product Title: ', row['ProductTitle'])\n",
        "    print(\"\\n\",\"=\"*20, \"Recommended products\", \"=\"*20)\n",
        "    for i in range(1,len(indices)):\n",
        "        rows = fashion_df[['ImageURL','ProductTitle']].loc[fashion_df['ProductId']==Productids[indices[i]]]\n",
        "        for indx, row in rows.iterrows():\n",
        "            display(Image(url=row['ImageURL'], width = 224, height = 224,embed=True))\n",
        "            print('Product Title: ', row['ProductTitle'])\n",
        "            print('Euclidean Distance from input image:', pdists[i])"
      ],
      "execution_count": 13,
      "outputs": []
    },
    {
      "cell_type": "code",
      "metadata": {
        "id": "ih3iODofTkVa"
      },
      "source": [
        "get_similar_products_cnn('21030', 5)"
      ],
      "execution_count": 14,
      "outputs": []
    },
    {
      "cell_type": "markdown",
      "metadata": {
        "id": "10vQ2ordVL49"
      },
      "source": [
        "# 5. Deploying the Solution\n"
      ]
    },
    {
      "cell_type": "code",
      "metadata": {
        "id": "ua-hid_RTmCD"
      },
      "source": [
        "st.set_option('deprecation.showfileUploaderEncoding', False)\n",
        "\n",
        "fashion_df = pd.read_csv(\"./fashion.csv\")\n",
        "boys_extracted_features = np.load('./Boys_ResNet_features.npy')\n",
        "boys_Productids = np.load('./Boys_ResNet_feature_product_ids.npy')\n",
        "girls_extracted_features = np.load('./Girls_ResNet_features.npy')\n",
        "girls_Productids = np.load('./Girls_ResNet_feature_product_ids.npy')\n",
        "men_extracted_features = np.load('./Men_ResNet_features.npy')\n",
        "men_Productids = np.load('./Men_ResNet_feature_product_ids.npy')\n",
        "women_extracted_features = np.load('./Women_ResNet_features.npy')\n",
        "women_Productids = np.load('./Women_ResNet_feature_product_ids.npy')\n",
        "fashion_df[\"ProductId\"] = fashion_df[\"ProductId\"].astype(str)\n",
        "\n",
        "\n",
        "\n",
        "def get_similar_products_cnn(product_id, num_results):\n",
        "    if(fashion_df[fashion_df['ProductId']==product_id]['Gender'].values[0]==\"Boys\"):\n",
        "        extracted_features = boys_extracted_features\n",
        "        Productids = boys_Productids\n",
        "    elif(fashion_df[fashion_df['ProductId']==product_id]['Gender'].values[0]==\"Girls\"):\n",
        "        extracted_features = girls_extracted_features\n",
        "        Productids = girls_Productids\n",
        "    elif(fashion_df[fashion_df['ProductId']==product_id]['Gender'].values[0]==\"Men\"):\n",
        "        extracted_features = men_extracted_features\n",
        "        Productids = men_Productids\n",
        "    elif(fashion_df[fashion_df['ProductId']==product_id]['Gender'].values[0]==\"Women\"):\n",
        "        extracted_features = women_extracted_features\n",
        "        Productids = women_Productids\n",
        "    Productids = list(Productids)\n",
        "    doc_id = Productids.index(product_id)\n",
        "    pairwise_dist = pairwise_distances(extracted_features, extracted_features[doc_id].reshape(1,-1))\n",
        "    indices = np.argsort(pairwise_dist.flatten())[0:num_results]\n",
        "    pdists  = np.sort(pairwise_dist.flatten())[0:num_results]\n",
        "    st.write(\"\"\"\n",
        "         #### input item details\n",
        "         \"\"\")\n",
        "    ip_row = fashion_df[['ImageURL','ProductTitle']].loc[fashion_df['ProductId']==Productids[indices[0]]]\n",
        "    for indx, row in ip_row.iterrows():\n",
        "        image = Image.open(urllib.request.urlopen(row['ImageURL']))\n",
        "        image = image.resize((224,224))\n",
        "        st.image(image)\n",
        "        st.write(f\"Product Title: {row['ProductTitle']}\")\n",
        "    st.write(f\"\"\"\n",
        "         #### Top {num_results} Recommended items\n",
        "         \"\"\")\n",
        "    for i in range(1,len(indices)):\n",
        "        rows = fashion_df[['ImageURL','ProductTitle']].loc[fashion_df['ProductId']==Productids[indices[i]]]\n",
        "        for indx, row in rows.iterrows():\n",
        "            #image = Image.open(Image(url=row['ImageURL'], width = 224, height = 224,embed=True))\n",
        "            image = Image.open(urllib.request.urlopen(row['ImageURL']))\n",
        "            image = image.resize((224,224))\n",
        "            st.image(image)\n",
        "            st.write(f\"Product Title: {row['ProductTitle']}\")\n",
        "            st.write(f\"Euclidean Distance from input image: {pdists[i]}\")\n",
        "\n",
        "st.write(\"\"\"\n",
        "         ## Visual Similarity based Recommendation\n",
        "         \"\"\"\n",
        "         )\n",
        "\n",
        "\n",
        "user_input1 = st.text_input(\"Enter the item id\")\n",
        "user_input2 = st.text_input(\"Enter number of products to be recommended\")\n",
        "\n",
        "\n",
        "button = st.button('Generate recommendations')\n",
        "if button:\n",
        "    get_similar_products_cnn(str(user_input1), int(user_input2))"
      ],
      "execution_count": 15,
      "outputs": []
    },
    {
      "cell_type": "code",
      "metadata": {
        "id": "PT6-BhAoVYZX"
      },
      "source": [
        "!streamlit run recom_deployment.py"
      ],
      "execution_count": 16,
      "outputs": []
    },
    {
      "cell_type": "markdown",
      "metadata": {
        "id": "fFpgLiqzVeBK"
      },
      "source": [
        "Full codes are [here](https://drive.google.com/file/d/123XGxKvRY7sk2pnTmVOyLp9FH-iFL5oN/view)"
      ]
    }
  ]
}