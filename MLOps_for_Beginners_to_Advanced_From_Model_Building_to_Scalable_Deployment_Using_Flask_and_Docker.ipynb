{
  "nbformat": 4,
  "nbformat_minor": 0,
  "metadata": {
    "colab": {
      "provenance": [],
      "authorship_tag": "ABX9TyNkC1t1K8DX3R0R7OvbreLN"
    },
    "kernelspec": {
      "name": "python3",
      "display_name": "Python 3"
    },
    "language_info": {
      "name": "python"
    }
  },
  "cells": [
    {
      "cell_type": "markdown",
      "source": [
        "[Reference](https://medium.com/@nomannayeem/mlops-for-beginners-to-advanced-from-model-building-to-scalable-deployment-using-flask-and-docker-ec65bd8cf07f)"
      ],
      "metadata": {
        "id": "1QU64yCsgIHf"
      }
    },
    {
      "cell_type": "markdown",
      "source": [
        "# Synthetic Dataset Generation"
      ],
      "metadata": {
        "id": "HFPINfoIgR68"
      }
    },
    {
      "cell_type": "code",
      "execution_count": 1,
      "metadata": {
        "colab": {
          "base_uri": "https://localhost:8080/"
        },
        "id": "tsAtrXPQgFH7",
        "outputId": "448ff9ad-3cfd-4050-9131-895798a8983c"
      },
      "outputs": [
        {
          "output_type": "stream",
          "name": "stderr",
          "text": [
            "<ipython-input-1-ced8ef22a927>:41: FutureWarning: 'T' is deprecated and will be removed in a future version, please use 'min' instead.\n",
            "  'timestamp': pd.date_range(start='2023-01-01', periods=5000, freq='T')  # Generate random timestamps for interactions, 1 minute apart\n"
          ]
        },
        {
          "output_type": "execute_result",
          "data": {
            "text/plain": [
              "(   user_id  age gender  location\n",
              " 0        1   34      M  Suburban\n",
              " 1        2   29      F     Urban\n",
              " 2        3   39      F  Suburban\n",
              " 3        4   53      M  Suburban\n",
              " 4        5   32      F  Suburban,\n",
              "    product_id     category   price  rating\n",
              " 0           1  Electronics  386.90     3.7\n",
              " 1           2     Clothing  318.84     4.6\n",
              " 2           3         Home  437.29     1.3\n",
              " 3           4  Electronics  441.81     3.9\n",
              " 4           5         Home  177.80     2.5,\n",
              "    user_id  product_id  rating           timestamp\n",
              " 0      723          79       1 2023-01-01 00:00:00\n",
              " 1      411         197       1 2023-01-01 00:01:00\n",
              " 2      262         277       4 2023-01-01 00:02:00\n",
              " 3      950         114       5 2023-01-01 00:03:00\n",
              " 4      140         478       3 2023-01-01 00:04:00)"
            ]
          },
          "metadata": {},
          "execution_count": 1
        }
      ],
      "source": [
        "# Import necessary libraries\n",
        "import pandas as pd  # To handle data in tabular form\n",
        "import numpy as np   # To generate random data\n",
        "\n",
        "# Step 1: Define the number of users and products\n",
        "# Let's assume we have 1000 users and 500 products in our ecommerce platform.\n",
        "num_users = 1000\n",
        "num_products = 500\n",
        "\n",
        "# Step 2: Generating the Users Data\n",
        "# Each user has an ID, age, gender, and location.\n",
        "user_data = {\n",
        "    'user_id': np.arange(1, num_users + 1),  # Generate user IDs from 1 to 1000\n",
        "    'age': np.random.randint(18, 70, size=num_users),  # Random ages between 18 and 70\n",
        "    'gender': np.random.choice(['M', 'F'], size=num_users),  # Randomly assign gender as Male (M) or Female (F)\n",
        "    'location': np.random.choice(['Urban', 'Suburban', 'Rural'], size=num_users)  # Randomly assign location type\n",
        "}\n",
        "\n",
        "# Convert the user data dictionary into a pandas DataFrame\n",
        "users_df = pd.DataFrame(user_data)\n",
        "\n",
        "# Step 3: Generating the Products Data\n",
        "# Each product has an ID, category, price, and rating.\n",
        "product_data = {\n",
        "    'product_id': np.arange(1, num_products + 1),  # Generate product IDs from 1 to 500\n",
        "    'category': np.random.choice(['Electronics', 'Clothing', 'Home', 'Books'], size=num_products),  # Randomly assign product category\n",
        "    'price': np.round(np.random.uniform(5, 500, size=num_products), 2),  # Random prices between $5 and $500, rounded to 2 decimal places\n",
        "    'rating': np.round(np.random.uniform(1, 5, size=num_products), 1)  # Random ratings between 1 and 5, rounded to 1 decimal place\n",
        "}\n",
        "\n",
        "# Convert the product data dictionary into a pandas DataFrame\n",
        "products_df = pd.DataFrame(product_data)\n",
        "\n",
        "# Step 4: Generating the User-Product Interaction Data (Purchase History or Ratings)\n",
        "# We simulate how users interact with products. For example, users can rate or buy products.\n",
        "\n",
        "interaction_data = {\n",
        "    'user_id': np.random.choice(users_df['user_id'], size=5000),  # Randomly select users who interacted with products\n",
        "    'product_id': np.random.choice(products_df['product_id'], size=5000),  # Randomly select products that were interacted with\n",
        "    'rating': np.random.randint(1, 6, size=5000),  # Assign random ratings (1 to 5 stars) for these interactions\n",
        "    'timestamp': pd.date_range(start='2023-01-01', periods=5000, freq='T')  # Generate random timestamps for interactions, 1 minute apart\n",
        "}\n",
        "\n",
        "# Convert the interaction data dictionary into a pandas DataFrame\n",
        "interactions_df = pd.DataFrame(interaction_data)\n",
        "\n",
        "# Let's check the first few rows of each dataset\n",
        "users_df.head(), products_df.head(), interactions_df.head()"
      ]
    },
    {
      "cell_type": "markdown",
      "source": [
        "# Data Preprocessing"
      ],
      "metadata": {
        "id": "fO4F1DydgcXG"
      }
    },
    {
      "cell_type": "code",
      "source": [
        "# Import necessary libraries for pre-processing\n",
        "from sklearn.model_selection import train_test_split\n",
        "from sklearn.preprocessing import LabelEncoder\n",
        "\n",
        "# Step 1: Handle missing values\n",
        "# Checking for missing values in all datasets\n",
        "print(\"Missing values in users data:\\n\", users_df.isnull().sum())\n",
        "print(\"Missing values in products data:\\n\", products_df.isnull().sum())\n",
        "print(\"Missing values in interactions data:\\n\", interactions_df.isnull().sum())\n",
        "\n",
        "# Step 2: Encoding categorical variables\n",
        "label_encoder = LabelEncoder()\n",
        "\n",
        "# Encode the gender column in users data (M -> 0, F -> 1)\n",
        "users_df['gender_encoded'] = label_encoder.fit_transform(users_df['gender'])\n",
        "\n",
        "# Encode the location column in users data\n",
        "users_df['location_encoded'] = label_encoder.fit_transform(users_df['location'])\n",
        "\n",
        "# Encode the category column in products data\n",
        "products_df['category_encoded'] = label_encoder.fit_transform(products_df['category'])\n",
        "\n",
        "# Step 3: Create a User-Product Rating Matrix\n",
        "user_product_matrix = interactions_df.pivot_table(index='user_id', columns='product_id', values='rating').fillna(0)\n",
        "\n",
        "# Step 4: Train-test split\n",
        "train_data, test_data = train_test_split(interactions_df, test_size=0.2, random_state=42)\n",
        "\n",
        "# Display the first few rows of the pre-processed data to verify\n",
        "print(\"User-Product Matrix:\\n\", user_product_matrix.head())\n",
        "print(\"Train Data Sample:\\n\", train_data.head())\n",
        "print(\"Test Data Sample:\\n\", test_data.head())"
      ],
      "metadata": {
        "colab": {
          "base_uri": "https://localhost:8080/"
        },
        "id": "f6OJoAAqgbBK",
        "outputId": "96ba0728-0870-419e-a03d-0467abb58d7c"
      },
      "execution_count": 4,
      "outputs": [
        {
          "output_type": "stream",
          "name": "stdout",
          "text": [
            "Missing values in users data:\n",
            " user_id     0\n",
            "age         0\n",
            "gender      0\n",
            "location    0\n",
            "dtype: int64\n",
            "Missing values in products data:\n",
            " product_id    0\n",
            "category      0\n",
            "price         0\n",
            "rating        0\n",
            "dtype: int64\n",
            "Missing values in interactions data:\n",
            " user_id       0\n",
            "product_id    0\n",
            "rating        0\n",
            "timestamp     0\n",
            "dtype: int64\n",
            "User-Product Matrix:\n",
            " product_id  1    2    3    4    5    6    7    8    9    10   ...  491  492  \\\n",
            "user_id                                                       ...             \n",
            "1           0.0  0.0  0.0  0.0  0.0  0.0  0.0  0.0  0.0  0.0  ...  0.0  0.0   \n",
            "2           0.0  0.0  0.0  0.0  0.0  0.0  0.0  0.0  0.0  0.0  ...  0.0  0.0   \n",
            "3           0.0  0.0  0.0  0.0  0.0  0.0  0.0  0.0  0.0  0.0  ...  0.0  0.0   \n",
            "4           0.0  0.0  0.0  0.0  0.0  0.0  0.0  0.0  0.0  0.0  ...  0.0  0.0   \n",
            "6           0.0  0.0  0.0  0.0  0.0  0.0  0.0  0.0  0.0  0.0  ...  0.0  0.0   \n",
            "\n",
            "product_id  493  494  495  496  497  498  499  500  \n",
            "user_id                                             \n",
            "1           0.0  0.0  0.0  0.0  0.0  0.0  0.0  0.0  \n",
            "2           0.0  0.0  0.0  0.0  0.0  0.0  0.0  0.0  \n",
            "3           0.0  0.0  0.0  0.0  0.0  0.0  0.0  0.0  \n",
            "4           0.0  0.0  0.0  0.0  0.0  0.0  0.0  0.0  \n",
            "6           0.0  0.0  0.0  0.0  0.0  0.0  0.0  0.0  \n",
            "\n",
            "[5 rows x 500 columns]\n",
            "Train Data Sample:\n",
            "       user_id  product_id  rating           timestamp\n",
            "4227      430          92       1 2023-01-03 22:27:00\n",
            "4676      110         328       2 2023-01-04 05:56:00\n",
            "800       688         327       4 2023-01-01 13:20:00\n",
            "3671      577         452       5 2023-01-03 13:11:00\n",
            "4193      529          10       5 2023-01-03 21:53:00\n",
            "Test Data Sample:\n",
            "       user_id  product_id  rating           timestamp\n",
            "1501      468         486       3 2023-01-02 01:01:00\n",
            "2586      651         371       5 2023-01-02 19:06:00\n",
            "2653      409         264       5 2023-01-02 20:13:00\n",
            "1055      528          94       3 2023-01-01 17:35:00\n",
            "705       941         444       3 2023-01-01 11:45:00\n"
          ]
        }
      ]
    },
    {
      "cell_type": "markdown",
      "source": [
        "# Model Building and Training"
      ],
      "metadata": {
        "id": "DoZQUDghguK9"
      }
    },
    {
      "cell_type": "code",
      "source": [
        "# Install the Surprise library\n",
        "!pip install scikit-surprise\n",
        "\n",
        "# Import necessary libraries\n",
        "from surprise import Dataset, Reader, SVD\n",
        "from surprise.model_selection import train_test_split as surprise_train_test_split\n",
        "from surprise.model_selection import cross_validate\n",
        "from surprise import accuracy\n",
        "\n",
        "# Step 1: Prepare the data for Surprise\n",
        "reader = Reader(rating_scale=(1, 5))  # The rating scale in our dataset is from 1 to 5\n",
        "data = Dataset.load_from_df(interactions_df[['user_id', 'product_id', 'rating']], reader)\n",
        "\n",
        "# Step 2: Train-test split\n",
        "trainset, testset = surprise_train_test_split(data, test_size=0.2)\n",
        "\n",
        "# Step 3: Train the SVD model\n",
        "model = SVD()  # Initialize the SVD model\n",
        "model.fit(trainset)  # Train the model on the training set\n",
        "\n",
        "# Step 4: Test the model on the test set\n",
        "predictions = model.test(testset)\n",
        "\n",
        "# Step 5: Evaluate the performance using RMSE\n",
        "rmse = accuracy.rmse(predictions)"
      ],
      "metadata": {
        "colab": {
          "base_uri": "https://localhost:8080/"
        },
        "id": "9OGNYnXUgqIv",
        "outputId": "efe01fe0-1bbe-4647-bdb5-b6f85971072c"
      },
      "execution_count": 6,
      "outputs": [
        {
          "output_type": "stream",
          "name": "stdout",
          "text": [
            "Collecting scikit-surprise\n",
            "  Downloading scikit_surprise-1.1.4.tar.gz (154 kB)\n",
            "\u001b[?25l     \u001b[90m━━━━━━━━━━━━━━━━━━━━━━━━━━━━━━━━━━━━━━━━\u001b[0m \u001b[32m0.0/154.4 kB\u001b[0m \u001b[31m?\u001b[0m eta \u001b[36m-:--:--\u001b[0m\r\u001b[2K     \u001b[91m━━━━━━━━━━━━━━━━━━━━━━━━━━━━━━━━━━━━━━━\u001b[0m\u001b[91m╸\u001b[0m \u001b[32m153.6/154.4 kB\u001b[0m \u001b[31m4.6 MB/s\u001b[0m eta \u001b[36m0:00:01\u001b[0m\r\u001b[2K     \u001b[90m━━━━━━━━━━━━━━━━━━━━━━━━━━━━━━━━━━━━━━━━\u001b[0m \u001b[32m154.4/154.4 kB\u001b[0m \u001b[31m3.4 MB/s\u001b[0m eta \u001b[36m0:00:00\u001b[0m\n",
            "\u001b[?25h  Installing build dependencies ... \u001b[?25l\u001b[?25hdone\n",
            "  Getting requirements to build wheel ... \u001b[?25l\u001b[?25hdone\n",
            "  Preparing metadata (pyproject.toml) ... \u001b[?25l\u001b[?25hdone\n",
            "Requirement already satisfied: joblib>=1.2.0 in /usr/local/lib/python3.10/dist-packages (from scikit-surprise) (1.4.2)\n",
            "Requirement already satisfied: numpy>=1.19.5 in /usr/local/lib/python3.10/dist-packages (from scikit-surprise) (1.26.4)\n",
            "Requirement already satisfied: scipy>=1.6.0 in /usr/local/lib/python3.10/dist-packages (from scikit-surprise) (1.13.1)\n",
            "Building wheels for collected packages: scikit-surprise\n",
            "  Building wheel for scikit-surprise (pyproject.toml) ... \u001b[?25l\u001b[?25hdone\n",
            "  Created wheel for scikit-surprise: filename=scikit_surprise-1.1.4-cp310-cp310-linux_x86_64.whl size=2357266 sha256=a5a0561c3b28dd1d7338aec14c07c09246d93ede870c0c561f8c2ace4279777a\n",
            "  Stored in directory: /root/.cache/pip/wheels/4b/3f/df/6acbf0a40397d9bf3ff97f582cc22fb9ce66adde75bc71fd54\n",
            "Successfully built scikit-surprise\n",
            "Installing collected packages: scikit-surprise\n",
            "Successfully installed scikit-surprise-1.1.4\n",
            "RMSE: 1.4467\n"
          ]
        }
      ]
    },
    {
      "cell_type": "markdown",
      "source": [
        "# Saving the Model"
      ],
      "metadata": {
        "id": "m0ELqeU_g7_F"
      }
    },
    {
      "cell_type": "code",
      "source": [
        "import pickle\n",
        "\n",
        "# Step 1: Save the trained SVD model to a file\n",
        "model_filename = 'svd_model.pkl'\n",
        "with open(model_filename, 'wb') as model_file:\n",
        "    pickle.dump(model, model_file)\n",
        "\n",
        "print(f\"Model saved to {model_filename}\")\n",
        "\n",
        "# If working in Google Colab, download the saved model file\n",
        "from google.colab import files\n",
        "files.download(model_filename)"
      ],
      "metadata": {
        "id": "T2Xw8Mltg2en"
      },
      "execution_count": 7,
      "outputs": []
    },
    {
      "cell_type": "markdown",
      "source": [
        "# Monitoring Model Performance"
      ],
      "metadata": {
        "id": "uDfrmRx3hLVp"
      }
    },
    {
      "cell_type": "code",
      "source": [
        "# Step 1: Calculate MAE (Mean Absolute Error)\n",
        "mae = accuracy.mae(predictions)\n",
        "\n",
        "# Step 2: Generate a basic performance report\n",
        "performance_report = {\n",
        "    'RMSE': rmse,\n",
        "    'MAE': mae\n",
        "}\n",
        "\n",
        "# Display the performance report\n",
        "print(\"Model Performance Report:\")\n",
        "for metric, score in performance_report.items():\n",
        "    print(f\"{metric}: {score:.4f}\")"
      ],
      "metadata": {
        "colab": {
          "base_uri": "https://localhost:8080/"
        },
        "id": "UC_64PKchHuK",
        "outputId": "7d2292fd-3926-477f-ca06-1a21b5222d71"
      },
      "execution_count": 8,
      "outputs": [
        {
          "output_type": "stream",
          "name": "stdout",
          "text": [
            "MAE:  1.2443\n",
            "Model Performance Report:\n",
            "RMSE: 1.4467\n",
            "MAE: 1.2443\n"
          ]
        }
      ]
    },
    {
      "cell_type": "markdown",
      "source": [
        "# Flask Application Development"
      ],
      "metadata": {
        "id": "aS-xqVImhV6V"
      }
    },
    {
      "cell_type": "markdown",
      "source": [
        "```\n",
        "📂 MLOps_Flask_Recommendation_System\n",
        "│\n",
        "├── 📂 model\n",
        "│   └── svd_model.pkl              # Trained SVD model file\n",
        "│\n",
        "├── 📂 templates                    # HTML Templates for Flask app\n",
        "│   ├── index.html                  # Home page for selecting user/product\n",
        "│   └── result.html                 # Page displaying predicted recommendation\n",
        "│\n",
        "├── 📂 venv                         # Virtual environment directory (optional)\n",
        "│\n",
        "├── .dockerignore                   # Files/directories to ignore in Docker build\n",
        "├── .gitignore                      # Files/directories to ignore in Git repository\n",
        "├── app.py                          # Main Flask application file\n",
        "├── Dockerfile                      # Docker configuration file for Flask app\n",
        "├── docker-compose.yml              # Docker Compose file for running app in containers\n",
        "├── requirements.txt                # Python dependencies\n",
        "├── README.md                       # Project description and instructions\n",
        "```"
      ],
      "metadata": {
        "id": "NlmdfSKRhbms"
      }
    },
    {
      "cell_type": "markdown",
      "source": [
        "app.py:"
      ],
      "metadata": {
        "id": "qiHa1VfLhel2"
      }
    },
    {
      "cell_type": "code",
      "source": [
        "from flask import Flask, render_template, request\n",
        "import pickle\n",
        "import os\n",
        "\n",
        "# Initialize Flask app\n",
        "app = Flask(__name__)\n",
        "\n",
        "# Load the saved SVD model\n",
        "model_path = os.path.join('model', 'svd_model.pkl')\n",
        "with open(model_path, 'rb') as model_file:\n",
        "    model = pickle.load(model_file)\n",
        "\n",
        "# Dummy data for user and product IDs\n",
        "users = list(range(1, 1001))\n",
        "products = list(range(1, 501))\n",
        "\n",
        "@app.route('/')\n",
        "def index():\n",
        "    return render_template('index.html', users=users, products=products)\n",
        "\n",
        "@app.route('/recommend', methods=['POST'])\n",
        "def recommend():\n",
        "    user_id = int(request.form['user_id'])\n",
        "    product_id = int(request.form['product_id'])\n",
        "\n",
        "    prediction = model.predict(user_id, product_id)\n",
        "    return render_template('result.html', user_id=user_id, product_id=product_id, predicted_rating=prediction.est)\n",
        "\n",
        "if __name__ == '__main__':\n",
        "    app.run(host='0.0.0.0', port=5000)"
      ],
      "metadata": {
        "id": "XOx4SnX7hQAL"
      },
      "execution_count": 9,
      "outputs": []
    },
    {
      "cell_type": "markdown",
      "source": [
        "index.html:\n"
      ],
      "metadata": {
        "id": "JeIXBa9ohiyI"
      }
    },
    {
      "cell_type": "markdown",
      "source": [
        "```\n",
        "<!DOCTYPE html>\n",
        "<html lang=\"en\">\n",
        "<head>\n",
        "    <meta charset=\"UTF-8\">\n",
        "    <meta name=\"viewport\" content=\"width=device-width, initial-scale=1.0\">\n",
        "    <title>Product Recommendation</title>\n",
        "    <link href=\"https://cdn.jsdelivr.net/npm/bootstrap@5.3.0-alpha3/dist/css/bootstrap.min.css\" rel=\"stylesheet\">\n",
        "</head>\n",
        "<body>\n",
        "    <div class=\"container mt-5\">\n",
        "        <h1 class=\"text-center\">Product Recommendation System</h1>\n",
        "        <form action=\"/recommend\" method=\"POST\" class=\"mt-4\">\n",
        "            <div class=\"mb-3\">\n",
        "                <label for=\"user_id\" class=\"form-label\">Select User ID</label>\n",
        "                <select name=\"user_id\" class=\"form-select\">\n",
        "                    {% for user in users %}\n",
        "                    <option value=\"{{ user }}\">{{ user }}</option>\n",
        "                    {% endfor %}\n",
        "                </select>\n",
        "            </div>\n",
        "            <div class=\"mb-3\">\n",
        "                <label for=\"product_id\" class=\"form-label\">Select Product ID</label>\n",
        "                <select name=\"product_id\" class=\"form-select\">\n",
        "                    {% for product in products %}\n",
        "                    <option value=\"{{ product }}\">{{ product }}</option>\n",
        "                    {% endfor %}\n",
        "                </select>\n",
        "            </div>\n",
        "            <button type=\"submit\" class=\"btn btn-primary\">Get Recommendation</button>\n",
        "        </form>\n",
        "    </div>\n",
        "    <script src=\"https://cdn.jsdelivr.net/npm/bootstrap@5.3.0-alpha3/dist/js/bootstrap.bundle.min.js\"></script>\n",
        "</body>\n",
        "</html>\n",
        "```"
      ],
      "metadata": {
        "id": "TpQQ-AOyhlDh"
      }
    },
    {
      "cell_type": "markdown",
      "source": [
        "result.html:"
      ],
      "metadata": {
        "id": "HAwK_ne3hn2Q"
      }
    },
    {
      "cell_type": "markdown",
      "source": [
        "```\n",
        "<!DOCTYPE html>\n",
        "<html lang=\"en\">\n",
        "<head>\n",
        "    <meta charset=\"UTF-8\">\n",
        "    <meta name=\"viewport\" content=\"width=device-width, initial-scale=1.0\">\n",
        "    <title>Recommendation Result</title>\n",
        "    <link href=\"https://cdn.jsdelivr.net/npm/bootstrap@5.3.0-alpha3/dist/css/bootstrap.min.css\" rel=\"stylesheet\">\n",
        "</head>\n",
        "<body>\n",
        "    <div class=\"container mt-5\">\n",
        "        <h1 class=\"text-center\">Recommendation Result</h1>\n",
        "        <p class=\"text-center\">Predicted Rating for User ID <strong>{{ user_id }}</strong> and Product ID <strong>{{ product_id }}</strong> is <strong>{{ predicted_rating }}</strong>.</p>\n",
        "        <div class=\"text-center\">\n",
        "            <a href=\"/\" class=\"btn btn-primary\">Go Back</a>\n",
        "        </div>\n",
        "    </div>\n",
        "    <script src=\"https://cdn.jsdelivr.net/npm/bootstrap@5.3.0-alpha3/dist/js/bootstrap.bundle.min.js\"></script>\n",
        "</body>\n",
        "</html>\n",
        "```"
      ],
      "metadata": {
        "id": "jRgvC15XhplY"
      }
    },
    {
      "cell_type": "markdown",
      "source": [
        "# Dockerization"
      ],
      "metadata": {
        "id": "YtlLDXaShryt"
      }
    },
    {
      "cell_type": "markdown",
      "source": [
        "```\n",
        "# Use an official Python runtime as a parent image\n",
        "FROM python:3.10-slim\n",
        "\n",
        "# Set the working directory in the container\n",
        "WORKDIR /app\n",
        "\n",
        "# Install build dependencies and Python dev tools\n",
        "RUN apt-get update && apt-get install -y \\\n",
        "    gcc \\\n",
        "    build-essential \\\n",
        "    python3-dev \\\n",
        "    && rm -rf /var/lib/apt/lists/*\n",
        "\n",
        "# Copy the current directory contents into the container at /app\n",
        "COPY . /app\n",
        "\n",
        "# Install any needed packages specified in requirements.txt\n",
        "RUN pip install --no-cache-dir -r requirements.txt\n",
        "\n",
        "# Expose port 5000 to the outside world\n",
        "EXPOSE 5000\n",
        "\n",
        "# Define environment variable\n",
        "ENV FLASK_APP=app.py\n",
        "\n",
        "# Run the application\n",
        "CMD [\"flask\", \"run\", \"--host=0.0.0.0\"]\n",
        "```"
      ],
      "metadata": {
        "id": "mPtmCFIZhuYp"
      }
    },
    {
      "cell_type": "markdown",
      "source": [
        "docker-compose.yml:"
      ],
      "metadata": {
        "id": "FXrgbyZYhxYX"
      }
    },
    {
      "cell_type": "markdown",
      "source": [
        "```\n",
        "version: '3.8'\n",
        "\n",
        "services:\n",
        "  flask_app:\n",
        "    build: .\n",
        "    ports:\n",
        "      - \"5000:5000\"\n",
        "    volumes:\n",
        "      - .:/app\n",
        "    environment:\n",
        "      FLASK_APP: app.py\n",
        "    command: flask run --host=0.0.0.0\n",
        "```"
      ],
      "metadata": {
        "id": "yilx-KSQhzM0"
      }
    },
    {
      "cell_type": "markdown",
      "source": [
        "requirements.txt:"
      ],
      "metadata": {
        "id": "pc4hglUlh1UC"
      }
    },
    {
      "cell_type": "markdown",
      "source": [
        "```\n",
        "Flask\n",
        "scikit-surprise\n",
        "numpy==1.21.6\n",
        "```"
      ],
      "metadata": {
        "id": "LEdty2fCh2v_"
      }
    },
    {
      "cell_type": "markdown",
      "source": [
        "# Running the App with Docker Compose"
      ],
      "metadata": {
        "id": "YrBeIoa-h5Y7"
      }
    },
    {
      "cell_type": "markdown",
      "source": [
        "Build the Docker Image:"
      ],
      "metadata": {
        "id": "MHJxyx8wiETN"
      }
    },
    {
      "cell_type": "markdown",
      "source": [
        "```\n",
        "docker-compose build\n",
        "```"
      ],
      "metadata": {
        "id": "bUonvxNhiFaX"
      }
    },
    {
      "cell_type": "markdown",
      "source": [
        "Start the Container:"
      ],
      "metadata": {
        "id": "GwF97OiIiHP1"
      }
    },
    {
      "cell_type": "markdown",
      "source": [
        "```\n",
        "docker-compose up\n",
        "```"
      ],
      "metadata": {
        "id": "b2EKJok1iInx"
      }
    }
  ]
}