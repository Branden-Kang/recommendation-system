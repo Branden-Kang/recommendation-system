{
  "nbformat": 4,
  "nbformat_minor": 0,
  "metadata": {
    "colab": {
      "provenance": [],
      "collapsed_sections": [],
      "authorship_tag": "ABX9TyMK5RDJfRss7dXM0OeclVzw"
    },
    "kernelspec": {
      "name": "python3",
      "display_name": "Python 3"
    },
    "language_info": {
      "name": "python"
    }
  },
  "cells": [
    {
      "cell_type": "markdown",
      "source": [
        "[Reference](https://pub.towardsai.net/step-by-step-approach-to-building-a-recommendation-system-a65be5a54045)"
      ],
      "metadata": {
        "id": "2IIQxM0V7VDr"
      }
    },
    {
      "cell_type": "code",
      "source": [
        "from google.colab import drive\n",
        "drive.mount('/content/drive')\n",
        "\n",
        "%cd /content/drive/MyDrive/Medium"
      ],
      "metadata": {
        "colab": {
          "base_uri": "https://localhost:8080/"
        },
        "id": "DeF9WOEd8T19",
        "outputId": "ed1204f8-3294-488a-b1d2-4e1a17ab4184"
      },
      "execution_count": 1,
      "outputs": [
        {
          "output_type": "stream",
          "name": "stdout",
          "text": [
            "Mounted at /content/drive\n",
            "/content/drive/MyDrive/Medium\n"
          ]
        }
      ]
    },
    {
      "cell_type": "code",
      "source": [
        "import pandas as pd\n",
        "import numpy as np\n",
        "import warnings\n",
        "warnings.filterwarnings('ignore')\n",
        "\n",
        "books = pd.read_csv('Books.csv')\n",
        "ratings = pd.read_csv('https://raw.githubusercontent.com/gowthamsr37/Book-Recommendation-system/main/Ratings.csv')\n",
        "users = pd.read_csv('https://raw.githubusercontent.com/gowthamsr37/Book-Recommendation-system/main/Users.csv')"
      ],
      "metadata": {
        "id": "Qsd0SWB97mJh"
      },
      "execution_count": 2,
      "outputs": []
    },
    {
      "cell_type": "code",
      "source": [
        "books = books[['ISBN', 'Book-Title']]"
      ],
      "metadata": {
        "id": "dnz1O58t8Lm4"
      },
      "execution_count": 3,
      "outputs": []
    },
    {
      "cell_type": "code",
      "source": [
        "print(books.shape) , print(users.shape) ,print(ratings.shape)"
      ],
      "metadata": {
        "id": "U7mZzuAF8N18",
        "colab": {
          "base_uri": "https://localhost:8080/"
        },
        "outputId": "aaa93930-cf20-4bac-d3da-2af9ea64a736"
      },
      "execution_count": 4,
      "outputs": [
        {
          "output_type": "stream",
          "name": "stdout",
          "text": [
            "(271360, 2)\n",
            "(278858, 3)\n",
            "(1149780, 3)\n"
          ]
        },
        {
          "output_type": "execute_result",
          "data": {
            "text/plain": [
              "(None, None, None)"
            ]
          },
          "metadata": {},
          "execution_count": 4
        }
      ]
    },
    {
      "cell_type": "code",
      "source": [
        "book_ratings = books.merge(ratings ,on = 'ISBN')\n",
        "user_rating = users.merge(ratings , on = 'User-ID')"
      ],
      "metadata": {
        "id": "LGwHFmOU7_uk"
      },
      "execution_count": 5,
      "outputs": []
    },
    {
      "cell_type": "code",
      "source": [
        "book_num_ratings = book_ratings.groupby('Book-Title')['Book-Rating'].count().reset_index().rename(columns = {'Book-Rating':'Num-Ratings' })\n",
        "book_avg_ratings = book_ratings.groupby('Book-Title')['Book-Rating'].mean().reset_index().rename(columns = {'Book-Rating':'Avg-Ratings' })\n",
        "final_rating = book_num_ratings.merge(book_avg_ratings , on = 'Book-Title')"
      ],
      "metadata": {
        "id": "l1xTxE3U8EkM"
      },
      "execution_count": 6,
      "outputs": []
    },
    {
      "cell_type": "markdown",
      "source": [
        "# Collaborative Filtering"
      ],
      "metadata": {
        "id": "_C0iDt4z8T--"
      }
    },
    {
      "cell_type": "code",
      "source": [
        "popular_books = final_rating[final_rating['Num-Ratings'] > 250].sort_values(by = 'Avg-Ratings'  , ascending= False).reset_index(drop = True).head(50)\n",
        "\n",
        "popular_books.head()"
      ],
      "metadata": {
        "id": "G6SpjCDu8F7u",
        "colab": {
          "base_uri": "https://localhost:8080/",
          "height": 204
        },
        "outputId": "e4827490-70ad-4c02-b9a5-8c2289c23c8b"
      },
      "execution_count": 7,
      "outputs": [
        {
          "output_type": "execute_result",
          "data": {
            "text/plain": [
              "                                          Book-Title  Num-Ratings  Avg-Ratings\n",
              "0  Harry Potter and the Prisoner of Azkaban (Book 3)          428     5.852804\n",
              "1       Harry Potter and the Goblet of Fire (Book 4)          387     5.824289\n",
              "2     Harry Potter and the Sorcerer's Stone (Book 1)          278     5.737410\n",
              "3  Harry Potter and the Order of the Phoenix (Boo...          347     5.501441\n",
              "4   Harry Potter and the Chamber of Secrets (Book 2)          556     5.183453"
            ],
            "text/html": [
              "\n",
              "  <div id=\"df-ca882020-d62d-4c08-9abb-1a9fbee0449b\">\n",
              "    <div class=\"colab-df-container\">\n",
              "      <div>\n",
              "<style scoped>\n",
              "    .dataframe tbody tr th:only-of-type {\n",
              "        vertical-align: middle;\n",
              "    }\n",
              "\n",
              "    .dataframe tbody tr th {\n",
              "        vertical-align: top;\n",
              "    }\n",
              "\n",
              "    .dataframe thead th {\n",
              "        text-align: right;\n",
              "    }\n",
              "</style>\n",
              "<table border=\"1\" class=\"dataframe\">\n",
              "  <thead>\n",
              "    <tr style=\"text-align: right;\">\n",
              "      <th></th>\n",
              "      <th>Book-Title</th>\n",
              "      <th>Num-Ratings</th>\n",
              "      <th>Avg-Ratings</th>\n",
              "    </tr>\n",
              "  </thead>\n",
              "  <tbody>\n",
              "    <tr>\n",
              "      <th>0</th>\n",
              "      <td>Harry Potter and the Prisoner of Azkaban (Book 3)</td>\n",
              "      <td>428</td>\n",
              "      <td>5.852804</td>\n",
              "    </tr>\n",
              "    <tr>\n",
              "      <th>1</th>\n",
              "      <td>Harry Potter and the Goblet of Fire (Book 4)</td>\n",
              "      <td>387</td>\n",
              "      <td>5.824289</td>\n",
              "    </tr>\n",
              "    <tr>\n",
              "      <th>2</th>\n",
              "      <td>Harry Potter and the Sorcerer's Stone (Book 1)</td>\n",
              "      <td>278</td>\n",
              "      <td>5.737410</td>\n",
              "    </tr>\n",
              "    <tr>\n",
              "      <th>3</th>\n",
              "      <td>Harry Potter and the Order of the Phoenix (Boo...</td>\n",
              "      <td>347</td>\n",
              "      <td>5.501441</td>\n",
              "    </tr>\n",
              "    <tr>\n",
              "      <th>4</th>\n",
              "      <td>Harry Potter and the Chamber of Secrets (Book 2)</td>\n",
              "      <td>556</td>\n",
              "      <td>5.183453</td>\n",
              "    </tr>\n",
              "  </tbody>\n",
              "</table>\n",
              "</div>\n",
              "      <button class=\"colab-df-convert\" onclick=\"convertToInteractive('df-ca882020-d62d-4c08-9abb-1a9fbee0449b')\"\n",
              "              title=\"Convert this dataframe to an interactive table.\"\n",
              "              style=\"display:none;\">\n",
              "        \n",
              "  <svg xmlns=\"http://www.w3.org/2000/svg\" height=\"24px\"viewBox=\"0 0 24 24\"\n",
              "       width=\"24px\">\n",
              "    <path d=\"M0 0h24v24H0V0z\" fill=\"none\"/>\n",
              "    <path d=\"M18.56 5.44l.94 2.06.94-2.06 2.06-.94-2.06-.94-.94-2.06-.94 2.06-2.06.94zm-11 1L8.5 8.5l.94-2.06 2.06-.94-2.06-.94L8.5 2.5l-.94 2.06-2.06.94zm10 10l.94 2.06.94-2.06 2.06-.94-2.06-.94-.94-2.06-.94 2.06-2.06.94z\"/><path d=\"M17.41 7.96l-1.37-1.37c-.4-.4-.92-.59-1.43-.59-.52 0-1.04.2-1.43.59L10.3 9.45l-7.72 7.72c-.78.78-.78 2.05 0 2.83L4 21.41c.39.39.9.59 1.41.59.51 0 1.02-.2 1.41-.59l7.78-7.78 2.81-2.81c.8-.78.8-2.07 0-2.86zM5.41 20L4 18.59l7.72-7.72 1.47 1.35L5.41 20z\"/>\n",
              "  </svg>\n",
              "      </button>\n",
              "      \n",
              "  <style>\n",
              "    .colab-df-container {\n",
              "      display:flex;\n",
              "      flex-wrap:wrap;\n",
              "      gap: 12px;\n",
              "    }\n",
              "\n",
              "    .colab-df-convert {\n",
              "      background-color: #E8F0FE;\n",
              "      border: none;\n",
              "      border-radius: 50%;\n",
              "      cursor: pointer;\n",
              "      display: none;\n",
              "      fill: #1967D2;\n",
              "      height: 32px;\n",
              "      padding: 0 0 0 0;\n",
              "      width: 32px;\n",
              "    }\n",
              "\n",
              "    .colab-df-convert:hover {\n",
              "      background-color: #E2EBFA;\n",
              "      box-shadow: 0px 1px 2px rgba(60, 64, 67, 0.3), 0px 1px 3px 1px rgba(60, 64, 67, 0.15);\n",
              "      fill: #174EA6;\n",
              "    }\n",
              "\n",
              "    [theme=dark] .colab-df-convert {\n",
              "      background-color: #3B4455;\n",
              "      fill: #D2E3FC;\n",
              "    }\n",
              "\n",
              "    [theme=dark] .colab-df-convert:hover {\n",
              "      background-color: #434B5C;\n",
              "      box-shadow: 0px 1px 3px 1px rgba(0, 0, 0, 0.15);\n",
              "      filter: drop-shadow(0px 1px 2px rgba(0, 0, 0, 0.3));\n",
              "      fill: #FFFFFF;\n",
              "    }\n",
              "  </style>\n",
              "\n",
              "      <script>\n",
              "        const buttonEl =\n",
              "          document.querySelector('#df-ca882020-d62d-4c08-9abb-1a9fbee0449b button.colab-df-convert');\n",
              "        buttonEl.style.display =\n",
              "          google.colab.kernel.accessAllowed ? 'block' : 'none';\n",
              "\n",
              "        async function convertToInteractive(key) {\n",
              "          const element = document.querySelector('#df-ca882020-d62d-4c08-9abb-1a9fbee0449b');\n",
              "          const dataTable =\n",
              "            await google.colab.kernel.invokeFunction('convertToInteractive',\n",
              "                                                     [key], {});\n",
              "          if (!dataTable) return;\n",
              "\n",
              "          const docLinkHtml = 'Like what you see? Visit the ' +\n",
              "            '<a target=\"_blank\" href=https://colab.research.google.com/notebooks/data_table.ipynb>data table notebook</a>'\n",
              "            + ' to learn more about interactive tables.';\n",
              "          element.innerHTML = '';\n",
              "          dataTable['output_type'] = 'display_data';\n",
              "          await google.colab.output.renderOutput(dataTable, element);\n",
              "          const docLink = document.createElement('div');\n",
              "          docLink.innerHTML = docLinkHtml;\n",
              "          element.appendChild(docLink);\n",
              "        }\n",
              "      </script>\n",
              "    </div>\n",
              "  </div>\n",
              "  "
            ]
          },
          "metadata": {},
          "execution_count": 7
        }
      ]
    },
    {
      "cell_type": "code",
      "source": [
        "x = book_ratings.groupby('User-ID').count()['Book-Rating'] > 200\n",
        "educated_users  = x[x].index\n",
        "\n",
        "book_ratings = book_ratings[book_ratings['User-ID'].isin(educated_users)]\n",
        "\n",
        "y  = book_ratings.groupby('Book-Title')['Book-Rating'].count() >= 50\n",
        "famous_books = y[y].index\n",
        "\n",
        "final = book_ratings[book_ratings['Book-Title'].isin(famous_books)]"
      ],
      "metadata": {
        "id": "N50V1-cf8HVG"
      },
      "execution_count": 8,
      "outputs": []
    },
    {
      "cell_type": "code",
      "source": [
        "pt = final.pivot_table(index = 'Book-Title' , columns = 'User-ID' , values= 'Book-Rating').fillna(0)"
      ],
      "metadata": {
        "id": "nQeW_J4G8XDG"
      },
      "execution_count": 9,
      "outputs": []
    },
    {
      "cell_type": "code",
      "source": [
        "from sklearn.metrics.pairwise import cosine_similarity"
      ],
      "metadata": {
        "id": "mdZ4GGX28Y9D"
      },
      "execution_count": 10,
      "outputs": []
    },
    {
      "cell_type": "code",
      "source": [
        "similarity_scores = cosine_similarity(pt)"
      ],
      "metadata": {
        "id": "sMbfQikI8bWO"
      },
      "execution_count": 11,
      "outputs": []
    },
    {
      "cell_type": "code",
      "source": [
        "sorted(list(enumerate(similarity_scores[0])) , key=lambda x: x[1] , reverse= True)[1:6]"
      ],
      "metadata": {
        "id": "YKPogQn68cEY",
        "colab": {
          "base_uri": "https://localhost:8080/"
        },
        "outputId": "b82cfe81-7762-45ae-ea3a-a6335fad2c20"
      },
      "execution_count": 12,
      "outputs": [
        {
          "output_type": "execute_result",
          "data": {
            "text/plain": [
              "[(47, 0.2702651417103732),\n",
              " (545, 0.2639619371123496),\n",
              " (82, 0.2366937434740099),\n",
              " (634, 0.23299389358170397),\n",
              " (551, 0.2262639743141286)]"
            ]
          },
          "metadata": {},
          "execution_count": 12
        }
      ]
    },
    {
      "cell_type": "code",
      "source": [
        "def recommend(book_name):\n",
        "    index = np.where(pt.index == book_name)[0][0]\n",
        "    similar_books = sorted(enumerate(similarity_scores[index]),key= lambda x: x[1], reverse =True)[1:6]\n",
        "    \n",
        "    for i in similar_books:\n",
        "        print(pt.index[i[0]])"
      ],
      "metadata": {
        "id": "o20qatTK8et8"
      },
      "execution_count": 13,
      "outputs": []
    },
    {
      "cell_type": "code",
      "source": [
        "recommend(\"4 Blondes\")"
      ],
      "metadata": {
        "id": "PM2Q2d8S8hgi",
        "colab": {
          "base_uri": "https://localhost:8080/"
        },
        "outputId": "9470d509-f6f2-447f-dccf-6a79644494b1"
      },
      "execution_count": 14,
      "outputs": [
        {
          "output_type": "stream",
          "name": "stdout",
          "text": [
            "The House of the Spirits\n",
            "Pride and Prejudice\n",
            "Pleading Guilty\n",
            "Seabiscuit\n",
            "Notes from a Small Island\n"
          ]
        }
      ]
    },
    {
      "cell_type": "code",
      "source": [
        "recommend(\"The House of the Spirits\")"
      ],
      "metadata": {
        "id": "SESWEmNj8iuu",
        "colab": {
          "base_uri": "https://localhost:8080/"
        },
        "outputId": "8058f4ac-9b42-4630-be9b-e91b7b096ce3"
      },
      "execution_count": 15,
      "outputs": [
        {
          "output_type": "stream",
          "name": "stdout",
          "text": [
            "You Belong To Me\n",
            "Last Chance Saloon\n",
            "The Lost World\n",
            "The Cradle Will Fall\n",
            "I'll Be Seeing You\n"
          ]
        }
      ]
    },
    {
      "cell_type": "code",
      "execution_count": 17,
      "metadata": {
        "id": "o4UMiwnY7Jt2"
      },
      "outputs": [],
      "source": [
        "# from flask import Flask, render_template, request\n",
        "# import pickle\n",
        "# import pandas as pd\n",
        "# import numpy as np\n",
        "\n",
        "# app = Flask(__name__)\n",
        "\n",
        "# popular_df = pickle.load(open('popular_books.pkl', 'rb'))\n",
        "# pt = pickle.load(open('pt.pkl', 'rb'))\n",
        "# books = pickle.load(open('books.pkl', 'rb'))\n",
        "# similarity_scores = pickle.load(open('similarity_scores.pkl', 'rb'))\n",
        "# book_titles = list(pt.index.values)\n",
        "\n",
        "# @app.route('/')\n",
        "# def index():\n",
        "#     return render_template('index.html',\n",
        "#                            book_name=list(popular_df['Book-Title'].values),\n",
        "#                            author=list(popular_df['Book-Author'].values),\n",
        "#                            image=list(popular_df['Image-URL-M'].values),\n",
        "#                            votes=list(popular_df['num_of_rating'].values),\n",
        "#                            rating=list((round(popular_df['avg_rating'], 2).values)))\n",
        "\n",
        "\n",
        "# @app.route('/recommend')\n",
        "# def recommend_ui():\n",
        "#     return render_template('recommend.html')\n",
        "\n",
        "# @app.route('/recommend_books',methods=['GET','POST'])\n",
        "# def recommend():\n",
        "#     user_input = request.form.get('user_input')\n",
        "#     index = np.where(pt.index == user_input)[0][0]\n",
        "#     similar_items = sorted(list(enumerate(similarity_scores[index])), key=lambda x: x[1], reverse=True)[1:5]\n",
        "\n",
        "#     data = []\n",
        "#     for i in similar_items:\n",
        "#         item = []\n",
        "#         temp_df = books[books['Book-Title'] == pt.index[i[0]]]\n",
        "#         item.extend(list(temp_df.drop_duplicates('Book-Title')['Book-Title'].values))\n",
        "#         item.extend(list(temp_df.drop_duplicates('Book-Title')['Book-Author'].values))\n",
        "#         item.extend(list(temp_df.drop_duplicates('Book-Title')['Image-URL-M'].values))\n",
        "\n",
        "#         data.append(item)\n",
        "\n",
        "#     print(data)\n",
        "\n",
        "#     return render_template('recommend.html',book_titles=book_titles, data=data)\n",
        "\n",
        "# if __name__ == '__main__':\n",
        "#     app.run(debug=True)"
      ]
    }
  ]
}